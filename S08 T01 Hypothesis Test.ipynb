{
 "cells": [
  {
   "cell_type": "markdown",
   "id": "6103f085",
   "metadata": {},
   "source": [
    "# S08 T01: Tasca del test d'hipòtesis"
   ]
  },
  {
   "cell_type": "markdown",
   "id": "5fe920ab",
   "metadata": {},
   "source": [
    "## Nivell 1. Exercici 1\n",
    "### Agafa un conjunt de dades de tema esportiu que t'agradi i selecciona un atribut del conjunt de dades. Calcula el p-valor i digues si rebutja la hipòtesi nul·la agafant un alfa de 5%.  "
   ]
  },
  {
   "cell_type": "code",
   "execution_count": 2,
   "id": "c44bc052",
   "metadata": {},
   "outputs": [],
   "source": [
    "# Pandas for managing datasets\n",
    "import pandas as pd\n",
    "import numpy as np\n",
    "\n",
    "# Matplotlib for additional customization\n",
    "import matplotlib.pyplot as plt\n",
    "%matplotlib inline\n",
    "plt.style.use('ggplot')\n",
    "\n",
    "# Seaborn for plotting and styling\n",
    "import seaborn as sns\n",
    "\n",
    "#preprocessing and analysis\n",
    "import statsmodels.api as sm\n",
    "from scipy import stats\n",
    "from scipy.stats import ttest_1samp,ttest_ind\n",
    "from scipy.stats import f_oneway"
   ]
  },
  {
   "cell_type": "code",
   "execution_count": 3,
   "id": "79971a85",
   "metadata": {},
   "outputs": [
    {
     "data": {
      "text/html": [
       "<div>\n",
       "<style scoped>\n",
       "    .dataframe tbody tr th:only-of-type {\n",
       "        vertical-align: middle;\n",
       "    }\n",
       "\n",
       "    .dataframe tbody tr th {\n",
       "        vertical-align: top;\n",
       "    }\n",
       "\n",
       "    .dataframe thead th {\n",
       "        text-align: right;\n",
       "    }\n",
       "</style>\n",
       "<table border=\"1\" class=\"dataframe\">\n",
       "  <thead>\n",
       "    <tr style=\"text-align: right;\">\n",
       "      <th></th>\n",
       "      <th>PlayerId</th>\n",
       "      <th>NameFirst</th>\n",
       "      <th>NameLast</th>\n",
       "      <th>CurrentHandle</th>\n",
       "      <th>CountryCode</th>\n",
       "      <th>TotalUSDPrize</th>\n",
       "      <th>Game</th>\n",
       "      <th>Genre</th>\n",
       "    </tr>\n",
       "  </thead>\n",
       "  <tbody>\n",
       "    <tr>\n",
       "      <th>0</th>\n",
       "      <td>3883</td>\n",
       "      <td>Peter</td>\n",
       "      <td>Rasmussen</td>\n",
       "      <td>dupreeh</td>\n",
       "      <td>dk</td>\n",
       "      <td>1822989.41</td>\n",
       "      <td>Counter-Strike: Global Offensive</td>\n",
       "      <td>First-Person Shooter</td>\n",
       "    </tr>\n",
       "    <tr>\n",
       "      <th>1</th>\n",
       "      <td>3679</td>\n",
       "      <td>Andreas</td>\n",
       "      <td>Højsleth</td>\n",
       "      <td>Xyp9x</td>\n",
       "      <td>dk</td>\n",
       "      <td>1799288.57</td>\n",
       "      <td>Counter-Strike: Global Offensive</td>\n",
       "      <td>First-Person Shooter</td>\n",
       "    </tr>\n",
       "    <tr>\n",
       "      <th>2</th>\n",
       "      <td>3885</td>\n",
       "      <td>Nicolai</td>\n",
       "      <td>Reedtz</td>\n",
       "      <td>dev1ce</td>\n",
       "      <td>dk</td>\n",
       "      <td>1787489.88</td>\n",
       "      <td>Counter-Strike: Global Offensive</td>\n",
       "      <td>First-Person Shooter</td>\n",
       "    </tr>\n",
       "    <tr>\n",
       "      <th>3</th>\n",
       "      <td>3672</td>\n",
       "      <td>Lukas</td>\n",
       "      <td>Rossander</td>\n",
       "      <td>gla1ve</td>\n",
       "      <td>dk</td>\n",
       "      <td>1652350.75</td>\n",
       "      <td>Counter-Strike: Global Offensive</td>\n",
       "      <td>First-Person Shooter</td>\n",
       "    </tr>\n",
       "    <tr>\n",
       "      <th>4</th>\n",
       "      <td>17800</td>\n",
       "      <td>Emil</td>\n",
       "      <td>Reif</td>\n",
       "      <td>Magisk</td>\n",
       "      <td>dk</td>\n",
       "      <td>1416448.64</td>\n",
       "      <td>Counter-Strike: Global Offensive</td>\n",
       "      <td>First-Person Shooter</td>\n",
       "    </tr>\n",
       "  </tbody>\n",
       "</table>\n",
       "</div>"
      ],
      "text/plain": [
       "   PlayerId NameFirst   NameLast CurrentHandle CountryCode  TotalUSDPrize  \\\n",
       "0      3883     Peter  Rasmussen       dupreeh          dk     1822989.41   \n",
       "1      3679   Andreas   Højsleth         Xyp9x          dk     1799288.57   \n",
       "2      3885   Nicolai     Reedtz        dev1ce          dk     1787489.88   \n",
       "3      3672     Lukas  Rossander        gla1ve          dk     1652350.75   \n",
       "4     17800      Emil       Reif        Magisk          dk     1416448.64   \n",
       "\n",
       "                               Game                 Genre  \n",
       "0  Counter-Strike: Global Offensive  First-Person Shooter  \n",
       "1  Counter-Strike: Global Offensive  First-Person Shooter  \n",
       "2  Counter-Strike: Global Offensive  First-Person Shooter  \n",
       "3  Counter-Strike: Global Offensive  First-Person Shooter  \n",
       "4  Counter-Strike: Global Offensive  First-Person Shooter  "
      ]
     },
     "execution_count": 3,
     "metadata": {},
     "output_type": "execute_result"
    }
   ],
   "source": [
    "df = pd.read_csv(\"highest_earning_players.csv\")\n",
    "df.head()"
   ]
  },
  {
   "cell_type": "code",
   "execution_count": 4,
   "id": "4a2d0845",
   "metadata": {},
   "outputs": [
    {
     "data": {
      "text/plain": [
       "PlayerId         0\n",
       "NameFirst        0\n",
       "NameLast         0\n",
       "CurrentHandle    0\n",
       "CountryCode      0\n",
       "TotalUSDPrize    0\n",
       "Game             0\n",
       "Genre            0\n",
       "dtype: int64"
      ]
     },
     "execution_count": 4,
     "metadata": {},
     "output_type": "execute_result"
    }
   ],
   "source": [
    "df.isna().sum()"
   ]
  },
  {
   "cell_type": "code",
   "execution_count": 5,
   "id": "331352ee",
   "metadata": {},
   "outputs": [
    {
     "name": "stdout",
     "output_type": "stream",
     "text": [
      "Fortnite                            100\n",
      "Dota 2                              100\n",
      "Heroes of the Storm                 100\n",
      "Overwatch                           100\n",
      "Hearthstone                         100\n",
      "Starcraft II                        100\n",
      "Arena of Valor                      100\n",
      "PUBG                                100\n",
      "Counter-Strike: Global Offensive    100\n",
      "League of Legends                   100\n",
      "Name: Game, dtype: int64\n"
     ]
    }
   ],
   "source": [
    "count = df['Game'].value_counts() \n",
    "print(count) "
   ]
  },
  {
   "cell_type": "code",
   "execution_count": 7,
   "id": "cbbf9964",
   "metadata": {},
   "outputs": [
    {
     "data": {
      "text/plain": [
       "397793.22"
      ]
     },
     "execution_count": 7,
     "metadata": {},
     "output_type": "execute_result"
    }
   ],
   "source": [
    "# the mean of TotalUSDPrize for all the observations is:\n",
    "round(df[\"TotalUSDPrize\"].mean(),2)"
   ]
  },
  {
   "cell_type": "markdown",
   "id": "8456cc6e",
   "metadata": {},
   "source": [
    "#### Hypothesis\n",
    "\\begin{equation*}\n",
    "H_{0}: mu = 397793 \\end{equation*}\n",
    "\\begin{equation*} H_{A}: mu \\neq 397793\n",
    "\\end{equation*}\n",
    "\n",
    "##### We want to see if the mean prize for a specific game, Fortnite for instance, is or not equal to the mean prize for all the games.\n",
    "##### the hypothesis H 0  : the me mean prize for Fornite is equal to the mean prize for all games (397793)\n",
    "##### the hypothesis H A : both means are not equal."
   ]
  },
  {
   "cell_type": "code",
   "execution_count": 8,
   "id": "9bcbed70",
   "metadata": {
    "scrolled": false
   },
   "outputs": [
    {
     "data": {
      "text/html": [
       "<div>\n",
       "<style scoped>\n",
       "    .dataframe tbody tr th:only-of-type {\n",
       "        vertical-align: middle;\n",
       "    }\n",
       "\n",
       "    .dataframe tbody tr th {\n",
       "        vertical-align: top;\n",
       "    }\n",
       "\n",
       "    .dataframe thead th {\n",
       "        text-align: right;\n",
       "    }\n",
       "</style>\n",
       "<table border=\"1\" class=\"dataframe\">\n",
       "  <thead>\n",
       "    <tr style=\"text-align: right;\">\n",
       "      <th></th>\n",
       "      <th>PlayerId</th>\n",
       "      <th>NameFirst</th>\n",
       "      <th>NameLast</th>\n",
       "      <th>CurrentHandle</th>\n",
       "      <th>CountryCode</th>\n",
       "      <th>TotalUSDPrize</th>\n",
       "      <th>Game</th>\n",
       "      <th>Genre</th>\n",
       "    </tr>\n",
       "  </thead>\n",
       "  <tbody>\n",
       "    <tr>\n",
       "      <th>300</th>\n",
       "      <td>56483</td>\n",
       "      <td>Kyle</td>\n",
       "      <td>Giersdorf</td>\n",
       "      <td>Bugha</td>\n",
       "      <td>us</td>\n",
       "      <td>3141395.05</td>\n",
       "      <td>Fortnite</td>\n",
       "      <td>Battle Royale</td>\n",
       "    </tr>\n",
       "    <tr>\n",
       "      <th>301</th>\n",
       "      <td>59528</td>\n",
       "      <td>David</td>\n",
       "      <td>Wang</td>\n",
       "      <td>Aqua</td>\n",
       "      <td>at</td>\n",
       "      <td>1923774.23</td>\n",
       "      <td>Fortnite</td>\n",
       "      <td>Battle Royale</td>\n",
       "    </tr>\n",
       "    <tr>\n",
       "      <th>302</th>\n",
       "      <td>25047</td>\n",
       "      <td>Harrison</td>\n",
       "      <td>Chang</td>\n",
       "      <td>psalm</td>\n",
       "      <td>us</td>\n",
       "      <td>1873138.80</td>\n",
       "      <td>Fortnite</td>\n",
       "      <td>Battle Royale</td>\n",
       "    </tr>\n",
       "    <tr>\n",
       "      <th>303</th>\n",
       "      <td>54656</td>\n",
       "      <td>Emil</td>\n",
       "      <td>Bergquist Pedersen</td>\n",
       "      <td>Nyhrox</td>\n",
       "      <td>no</td>\n",
       "      <td>1536845.69</td>\n",
       "      <td>Fortnite</td>\n",
       "      <td>Battle Royale</td>\n",
       "    </tr>\n",
       "    <tr>\n",
       "      <th>304</th>\n",
       "      <td>61948</td>\n",
       "      <td>Shane</td>\n",
       "      <td>Cotton</td>\n",
       "      <td>EpikWhale</td>\n",
       "      <td>us</td>\n",
       "      <td>1349767.32</td>\n",
       "      <td>Fortnite</td>\n",
       "      <td>Battle Royale</td>\n",
       "    </tr>\n",
       "  </tbody>\n",
       "</table>\n",
       "</div>"
      ],
      "text/plain": [
       "     PlayerId NameFirst            NameLast CurrentHandle CountryCode  \\\n",
       "300     56483      Kyle           Giersdorf         Bugha          us   \n",
       "301     59528     David                Wang          Aqua          at   \n",
       "302     25047  Harrison               Chang         psalm          us   \n",
       "303     54656      Emil  Bergquist Pedersen        Nyhrox          no   \n",
       "304     61948     Shane              Cotton     EpikWhale          us   \n",
       "\n",
       "     TotalUSDPrize      Game          Genre  \n",
       "300     3141395.05  Fortnite  Battle Royale  \n",
       "301     1923774.23  Fortnite  Battle Royale  \n",
       "302     1873138.80  Fortnite  Battle Royale  \n",
       "303     1536845.69  Fortnite  Battle Royale  \n",
       "304     1349767.32  Fortnite  Battle Royale  "
      ]
     },
     "execution_count": 8,
     "metadata": {},
     "output_type": "execute_result"
    }
   ],
   "source": [
    "selection = df.loc[df['Game'] == \"Fortnite\"]\n",
    "selection.head()"
   ]
  },
  {
   "cell_type": "code",
   "execution_count": 46,
   "id": "8f11a4c2",
   "metadata": {},
   "outputs": [
    {
     "data": {
      "text/plain": [
       "Text(0, 0.5, 'Prize in dollars')"
      ]
     },
     "execution_count": 46,
     "metadata": {},
     "output_type": "execute_result"
    },
    {
     "data": {
      "image/png": "[encoded data removed]",
      "text/plain": [
       "<Figure size 720x360 with 1 Axes>"
      ]
     },
     "metadata": {},
     "output_type": "display_data"
    }
   ],
   "source": [
    "# Graphic of prize distribution: Fornite game\n",
    "fig, ax = plt.subplots(figsize =(10, 5))\n",
    "g = sns.histplot(data = selection, x='TotalUSDPrize', alpha = 1, color = 'navy', bins = 60, kde = True)\n",
    "plt.title('The total prize by Game Fortnite (in USD)', fontsize=20)\n",
    "plt.xlabel('Fortnite')\n",
    "plt.ylabel('Prize in dollars')"
   ]
  },
  {
   "cell_type": "code",
   "execution_count": 48,
   "id": "a23db544",
   "metadata": {},
   "outputs": [
    {
     "data": {
      "text/plain": [
       "Text(0, 0.5, 'Prize in dollars')"
      ]
     },
     "execution_count": 48,
     "metadata": {},
     "output_type": "execute_result"
    },
    {
     "data": {
      "image/png": "[encoded data removed]",
      "text/plain": [
       "<Figure size 720x360 with 1 Axes>"
      ]
     },
     "metadata": {},
     "output_type": "display_data"
    }
   ],
   "source": [
    "# Graphic of prize distribution total df\n",
    "fig, ax = plt.subplots(figsize =(10, 5))\n",
    "g = sns.histplot(data = df, x='TotalUSDPrize', alpha = 1, color = 'navy', bins = 60, kde = True)\n",
    "plt.title('The total prize (in USD)', fontsize=20)\n",
    "plt.xlabel('Total Games')\n",
    "plt.ylabel('Prize in dollars')"
   ]
  },
  {
   "cell_type": "code",
   "execution_count": 60,
   "id": "92af6bff",
   "metadata": {},
   "outputs": [
    {
     "data": {
      "text/plain": [
       "Text(0.5, 1.0, 'Independent Sample T-Test')"
      ]
     },
     "execution_count": 60,
     "metadata": {},
     "output_type": "execute_result"
    },
    {
     "data": {
      "image/png": "[encoded data removed]",
      "text/plain": [
       "<Figure size 432x288 with 1 Axes>"
      ]
     },
     "metadata": {},
     "output_type": "display_data"
    }
   ],
   "source": [
    "# histogram of our 2 samples\n",
    "a = df.TotalUSDPrize\n",
    "b = selection.TotalUSDPrize\n",
    "sns.kdeplot(a, shade=True)\n",
    "sns.kdeplot(b, shade=True)\n",
    "plt.title(\"Independent Sample T-Test\")"
   ]
  },
  {
   "cell_type": "code",
   "execution_count": 49,
   "id": "98300e90",
   "metadata": {},
   "outputs": [
    {
     "data": {
      "text/plain": [
       "434093.71"
      ]
     },
     "execution_count": 49,
     "metadata": {},
     "output_type": "execute_result"
    }
   ],
   "source": [
    "# We take the mean prize for League of Legends\n",
    "Fortnite_mean = round(selection[\"TotalUSDPrize\"].mean(),2)\n",
    "Fortnite_mean"
   ]
  },
  {
   "cell_type": "code",
   "execution_count": 62,
   "id": "ccf5df1d",
   "metadata": {},
   "outputs": [
    {
     "name": "stdout",
     "output_type": "stream",
     "text": [
      "P-Value:0.444085700072847 T-Statistic:0.768388135411425\n"
     ]
    }
   ],
   "source": [
    "# 1-sample t-test \n",
    "# We are going to verify if the mean of the Game \"League of Legends\" is equal or not to the mean for all Games.\n",
    "#perform one sample t-test\n",
    "tStat, pValue = ttest_1samp(a=selection[\"TotalUSDPrize\"], popmean=397793)\n",
    "print(\"P-Value:{0} T-Statistic:{1}\".format(pValue,tStat))"
   ]
  },
  {
   "cell_type": "code",
   "execution_count": 183,
   "id": "3deca7ba",
   "metadata": {},
   "outputs": [
    {
     "name": "stdout",
     "output_type": "stream",
     "text": [
      " we are rejecting null hypothesis\n"
     ]
    }
   ],
   "source": [
    "if pValue < 0.05:    # alpha value is 0.05 or 5%\n",
    "   print(\" we are rejecting null hypothesis\")\n",
    "else:\n",
    "  print(\"we are accepting null hypothesis\")"
   ]
  },
  {
   "cell_type": "markdown",
   "id": "ba03e417",
   "metadata": {},
   "source": [
    "#### In this example, there is not enough evidence to reject the Null Hypothesis with a p-value ≤ 0.05).\n",
    "#### We accept H0 that there are not differences between the both means."
   ]
  },
  {
   "cell_type": "code",
   "execution_count": null,
   "id": "15c9cd29",
   "metadata": {},
   "outputs": [],
   "source": [
    "# We try another example, in this case with a random sample (100 observations)"
   ]
  },
  {
   "cell_type": "code",
   "execution_count": 63,
   "id": "303136b5",
   "metadata": {},
   "outputs": [
    {
     "data": {
      "text/plain": [
       "array([ 416162.04,  346307.48,  403320.75,  813169.73,  147500.  ,\n",
       "        173098.69,   42482.43, 1046689.75,  182066.13, 3765369.04,\n",
       "        245208.72,  239956.42,   97741.11,   94907.1 , 1349767.32,\n",
       "        427923.28,  110141.67,  104074.27,  442877.87,   85836.53,\n",
       "        102114.43,  479324.03,   63636.03,  102860.5 ,  243025.  ,\n",
       "        195617.67,   87834.52,  138237.16,   64255.11,   49471.55,\n",
       "        302884.33, 1799288.57,  109736.18,   27580.07,  108009.18,\n",
       "        566607.87,  661271.48,   65922.73,   51453.4 ,   42482.43,\n",
       "        353715.98,  179596.3 ,  893336.55,  391973.94,   81795.94,\n",
       "        141342.32,  762802.56, 3765369.04,  142369.56,  269887.84,\n",
       "        115102.67,  205477.15,  312948.02,  329318.02, 1799288.57,\n",
       "        349557.33,   28860.  ,  138237.16,   50449.6 ,  913084.7 ,\n",
       "        109440.09,  300818.81,  135189.54,  810683.  , 1787489.88,\n",
       "         55685.67, 1337308.37,  133380.96,   83845.32,  353715.98,\n",
       "        193860.89,   97593.92, 1745944.26,  159833.35,  801915.23,\n",
       "         63000.  ,  523847.63,  173098.69,   65516.28,   73817.6 ,\n",
       "         48503.23,  437479.98,  130550.93,  249497.86,  189265.81,\n",
       "         67950.  ,   34811.67,   47090.  ,   65922.73,   54812.  ,\n",
       "         86588.9 ,   51059.59,  679039.12,  330849.29,   49761.3 ,\n",
       "         54290.66,  236690.51,   65922.73,  378500.99,  913084.7 ])"
      ]
     },
     "execution_count": 63,
     "metadata": {},
     "output_type": "execute_result"
    }
   ],
   "source": [
    "# We take a random sample (=100)\n",
    "sample_size = 100\n",
    "prize_sample = np.random.choice(df[\"TotalUSDPrize\"], sample_size)\n",
    "prize_sample"
   ]
  },
  {
   "cell_type": "code",
   "execution_count": 64,
   "id": "1515e556",
   "metadata": {},
   "outputs": [
    {
     "data": {
      "text/plain": [
       "401983.83"
      ]
     },
     "execution_count": 64,
     "metadata": {},
     "output_type": "execute_result"
    }
   ],
   "source": [
    "round(prize_sample.mean(),2)"
   ]
  },
  {
   "cell_type": "code",
   "execution_count": 65,
   "id": "0f102be2",
   "metadata": {},
   "outputs": [
    {
     "name": "stdout",
     "output_type": "stream",
     "text": [
      "P-Value:0.9473041134671962 T-Statistic:0.06626042851720665\n"
     ]
    }
   ],
   "source": [
    "tStat, pValue =  stats.ttest_1samp(a=prize_sample, popmean=397793, axis=0)\n",
    "print(\"P-Value:{0} T-Statistic:{1}\".format(pValue,tStat))"
   ]
  },
  {
   "cell_type": "code",
   "execution_count": 66,
   "id": "aa09237d",
   "metadata": {},
   "outputs": [
    {
     "name": "stdout",
     "output_type": "stream",
     "text": [
      "we are accepting null hypothesis\n"
     ]
    }
   ],
   "source": [
    "if pValue < 0.05:    # alpha value is 0.05 or 5%\n",
    "   print(\" we are rejecting null hypothesis\")\n",
    "else:\n",
    "  print(\"we are accepting null hypothesis\")"
   ]
  },
  {
   "cell_type": "markdown",
   "id": "711bfd11",
   "metadata": {},
   "source": [
    "##### In this case we accept the null hypothesis that means there are not differences between the two means.\n",
    "##### We repeat the conclusion made above."
   ]
  },
  {
   "cell_type": "code",
   "execution_count": 68,
   "id": "bd62cf63",
   "metadata": {},
   "outputs": [
    {
     "data": {
      "text/plain": [
       "Text(0.5, 1.0, 'First and second T-Test')"
      ]
     },
     "execution_count": 68,
     "metadata": {},
     "output_type": "execute_result"
    },
    {
     "data": {
      "image/png": "[encoded data removed]",
      "text/plain": [
       "<Figure size 432x288 with 1 Axes>"
      ]
     },
     "metadata": {},
     "output_type": "display_data"
    }
   ],
   "source": [
    "#Graficamos los dos samples \n",
    "a = df.TotalUSDPrize\n",
    "b = prize_sample\n",
    "sns.kdeplot(a, shade=True)\n",
    "sns.kdeplot(b, shade=True)\n",
    "plt.title(\"First and second T-Test\")"
   ]
  },
  {
   "cell_type": "markdown",
   "id": "e3cf1cf3",
   "metadata": {},
   "source": [
    "## Nivell 2. Exercici 2\n",
    "### Continua amb el conjunt de dades de tema esportiu que t'agradi i selecciona dos altres atributs del conjunt de dades. Calcula els p-valors i digues si rebutgen la hipòtesi nul·la agafant un alfa de 5%."
   ]
  },
  {
   "cell_type": "code",
   "execution_count": 85,
   "id": "2c263a23",
   "metadata": {},
   "outputs": [
    {
     "data": {
      "text/plain": [
       "Multiplayer Online Battle Arena    400\n",
       "Battle Royale                      200\n",
       "First-Person Shooter               200\n",
       "Collectible Card Game              100\n",
       "Strategy                           100\n",
       "Name: Genre, dtype: int64"
      ]
     },
     "execution_count": 85,
     "metadata": {},
     "output_type": "execute_result"
    }
   ],
   "source": [
    "# Those are the genres in e-games\n",
    "df.Genre.value_counts() "
   ]
  },
  {
   "cell_type": "code",
   "execution_count": 86,
   "id": "c6e6b467",
   "metadata": {},
   "outputs": [
    {
     "name": "stdout",
     "output_type": "stream",
     "text": [
      "average Prize for Multiplayer Online Battle Arena is: 585841.7312249991\n"
     ]
    },
    {
     "data": {
      "image/png": "[encoded data removed]",
      "text/plain": [
       "<Figure size 432x288 with 1 Axes>"
      ]
     },
     "metadata": {},
     "output_type": "display_data"
    }
   ],
   "source": [
    "# We selec the genre \"Multiplayer Online Battle Arena\" and we ask for the mean prize.\n",
    "Prize_MPOBA = df[df.Genre == \"Multiplayer Online Battle Arena\"].TotalUSDPrize\n",
    "sns.histplot(Prize_MPOBA)\n",
    "print(f'average Prize for Multiplayer Online Battle Arena is:', Prize_MPOBA.mean())"
   ]
  },
  {
   "cell_type": "code",
   "execution_count": 89,
   "id": "58e3069a",
   "metadata": {},
   "outputs": [
    {
     "data": {
      "text/plain": [
       "585841.7312249991"
      ]
     },
     "execution_count": 89,
     "metadata": {},
     "output_type": "execute_result"
    }
   ],
   "source": [
    "Prize_MPOBA.mean()"
   ]
  },
  {
   "cell_type": "code",
   "execution_count": 90,
   "id": "f90ba41d",
   "metadata": {},
   "outputs": [
    {
     "name": "stdout",
     "output_type": "stream",
     "text": [
      "average prize for First-Person Shooter is:  344448.64700000035\n"
     ]
    },
    {
     "data": {
      "image/png": "[encoded data removed]",
      "text/plain": [
       "<Figure size 432x288 with 1 Axes>"
      ]
     },
     "metadata": {},
     "output_type": "display_data"
    }
   ],
   "source": [
    "# We selec another genre: \"First-Person Shooter\" and we ask for the mean prize.\n",
    "Prize_FPS  = df[df.Genre=='First-Person Shooter'].TotalUSDPrize\n",
    "sns.histplot(Prize_FPS)\n",
    "print(f'average prize for First-Person Shooter is: ', Prize_FPS.mean())"
   ]
  },
  {
   "cell_type": "code",
   "execution_count": 71,
   "id": "56f11bfb",
   "metadata": {},
   "outputs": [
    {
     "data": {
      "text/html": [
       "<div>\n",
       "<style scoped>\n",
       "    .dataframe tbody tr th:only-of-type {\n",
       "        vertical-align: middle;\n",
       "    }\n",
       "\n",
       "    .dataframe tbody tr th {\n",
       "        vertical-align: top;\n",
       "    }\n",
       "\n",
       "    .dataframe thead th {\n",
       "        text-align: right;\n",
       "    }\n",
       "</style>\n",
       "<table border=\"1\" class=\"dataframe\">\n",
       "  <thead>\n",
       "    <tr style=\"text-align: right;\">\n",
       "      <th></th>\n",
       "      <th>TotalUSDPrize</th>\n",
       "    </tr>\n",
       "    <tr>\n",
       "      <th>Genre</th>\n",
       "      <th></th>\n",
       "    </tr>\n",
       "  </thead>\n",
       "  <tbody>\n",
       "    <tr>\n",
       "      <th>Battle Royale</th>\n",
       "      <td>279256.65</td>\n",
       "    </tr>\n",
       "    <tr>\n",
       "      <th>Collectible Card Game</th>\n",
       "      <td>133356.41</td>\n",
       "    </tr>\n",
       "    <tr>\n",
       "      <th>First-Person Shooter</th>\n",
       "      <td>344448.65</td>\n",
       "    </tr>\n",
       "    <tr>\n",
       "      <th>Multiplayer Online Battle Arena</th>\n",
       "      <td>585841.73</td>\n",
       "    </tr>\n",
       "    <tr>\n",
       "      <th>Strategy</th>\n",
       "      <td>253798.24</td>\n",
       "    </tr>\n",
       "  </tbody>\n",
       "</table>\n",
       "</div>"
      ],
      "text/plain": [
       "                                 TotalUSDPrize\n",
       "Genre                                         \n",
       "Battle Royale                        279256.65\n",
       "Collectible Card Game                133356.41\n",
       "First-Person Shooter                 344448.65\n",
       "Multiplayer Online Battle Arena      585841.73\n",
       "Strategy                             253798.24"
      ]
     },
     "execution_count": 71,
     "metadata": {},
     "output_type": "execute_result"
    }
   ],
   "source": [
    "Genre_means = df.groupby('Genre').mean()[['TotalUSDPrize']]\n",
    "round(Genre_means,2)"
   ]
  },
  {
   "cell_type": "code",
   "execution_count": 72,
   "id": "bbdb6d9d",
   "metadata": {},
   "outputs": [
    {
     "data": {
      "text/html": [
       "<div>\n",
       "<style scoped>\n",
       "    .dataframe tbody tr th:only-of-type {\n",
       "        vertical-align: middle;\n",
       "    }\n",
       "\n",
       "    .dataframe tbody tr th {\n",
       "        vertical-align: top;\n",
       "    }\n",
       "\n",
       "    .dataframe thead th {\n",
       "        text-align: right;\n",
       "    }\n",
       "</style>\n",
       "<table border=\"1\" class=\"dataframe\">\n",
       "  <thead>\n",
       "    <tr style=\"text-align: right;\">\n",
       "      <th></th>\n",
       "      <th>TotalUSDPrize</th>\n",
       "    </tr>\n",
       "    <tr>\n",
       "      <th>Genre</th>\n",
       "      <th></th>\n",
       "    </tr>\n",
       "  </thead>\n",
       "  <tbody>\n",
       "    <tr>\n",
       "      <th>First-Person Shooter</th>\n",
       "      <td>344448.647000</td>\n",
       "    </tr>\n",
       "    <tr>\n",
       "      <th>Multiplayer Online Battle Arena</th>\n",
       "      <td>585841.731225</td>\n",
       "    </tr>\n",
       "  </tbody>\n",
       "</table>\n",
       "</div>"
      ],
      "text/plain": [
       "                                 TotalUSDPrize\n",
       "Genre                                         \n",
       "First-Person Shooter             344448.647000\n",
       "Multiplayer Online Battle Arena  585841.731225"
      ]
     },
     "execution_count": 72,
     "metadata": {},
     "output_type": "execute_result"
    }
   ],
   "source": [
    "Genre_2means = Genre_means.loc[['First-Person Shooter', 'Multiplayer Online Battle Arena']]\n",
    "Genre_2means"
   ]
  },
  {
   "cell_type": "code",
   "execution_count": 73,
   "id": "eaaebff6",
   "metadata": {},
   "outputs": [],
   "source": [
    "FPS_mean = Genre_2means.loc [\"First-Person Shooter\"][0]\n",
    "MOBA_mean = Genre_2means.loc [\"Multiplayer Online Battle Arena\"][0]"
   ]
  },
  {
   "cell_type": "code",
   "execution_count": 74,
   "id": "fb2a6dba",
   "metadata": {},
   "outputs": [
    {
     "data": {
      "text/html": [
       "<div>\n",
       "<style scoped>\n",
       "    .dataframe tbody tr th:only-of-type {\n",
       "        vertical-align: middle;\n",
       "    }\n",
       "\n",
       "    .dataframe tbody tr th {\n",
       "        vertical-align: top;\n",
       "    }\n",
       "\n",
       "    .dataframe thead th {\n",
       "        text-align: right;\n",
       "    }\n",
       "</style>\n",
       "<table border=\"1\" class=\"dataframe\">\n",
       "  <thead>\n",
       "    <tr style=\"text-align: right;\">\n",
       "      <th></th>\n",
       "      <th>TotalUSDPrize</th>\n",
       "    </tr>\n",
       "    <tr>\n",
       "      <th>Genre</th>\n",
       "      <th></th>\n",
       "    </tr>\n",
       "  </thead>\n",
       "  <tbody>\n",
       "    <tr>\n",
       "      <th>Battle Royale</th>\n",
       "      <td>376291.373</td>\n",
       "    </tr>\n",
       "    <tr>\n",
       "      <th>Collectible Card Game</th>\n",
       "      <td>91065.096</td>\n",
       "    </tr>\n",
       "    <tr>\n",
       "      <th>First-Person Shooter</th>\n",
       "      <td>339337.101</td>\n",
       "    </tr>\n",
       "    <tr>\n",
       "      <th>Multiplayer Online Battle Arena</th>\n",
       "      <td>992567.195</td>\n",
       "    </tr>\n",
       "    <tr>\n",
       "      <th>Strategy</th>\n",
       "      <td>198768.539</td>\n",
       "    </tr>\n",
       "  </tbody>\n",
       "</table>\n",
       "</div>"
      ],
      "text/plain": [
       "                                 TotalUSDPrize\n",
       "Genre                                         \n",
       "Battle Royale                       376291.373\n",
       "Collectible Card Game                91065.096\n",
       "First-Person Shooter                339337.101\n",
       "Multiplayer Online Battle Arena     992567.195\n",
       "Strategy                            198768.539"
      ]
     },
     "execution_count": 74,
     "metadata": {},
     "output_type": "execute_result"
    }
   ],
   "source": [
    "# Std by Genre\n",
    "Genre_std = df.groupby('Genre').agg(np.std, ddof=0)[['TotalUSDPrize']]\n",
    "round(Genre_std,3)"
   ]
  },
  {
   "cell_type": "code",
   "execution_count": 75,
   "id": "85af03ea",
   "metadata": {},
   "outputs": [
    {
     "data": {
      "text/html": [
       "<div>\n",
       "<style scoped>\n",
       "    .dataframe tbody tr th:only-of-type {\n",
       "        vertical-align: middle;\n",
       "    }\n",
       "\n",
       "    .dataframe tbody tr th {\n",
       "        vertical-align: top;\n",
       "    }\n",
       "\n",
       "    .dataframe thead th {\n",
       "        text-align: right;\n",
       "    }\n",
       "</style>\n",
       "<table border=\"1\" class=\"dataframe\">\n",
       "  <thead>\n",
       "    <tr style=\"text-align: right;\">\n",
       "      <th></th>\n",
       "      <th>TotalUSDPrize</th>\n",
       "    </tr>\n",
       "    <tr>\n",
       "      <th>Genre</th>\n",
       "      <th></th>\n",
       "    </tr>\n",
       "  </thead>\n",
       "  <tbody>\n",
       "    <tr>\n",
       "      <th>Multiplayer Online Battle Arena</th>\n",
       "      <td>992567.194775</td>\n",
       "    </tr>\n",
       "    <tr>\n",
       "      <th>First-Person Shooter</th>\n",
       "      <td>339337.100594</td>\n",
       "    </tr>\n",
       "  </tbody>\n",
       "</table>\n",
       "</div>"
      ],
      "text/plain": [
       "                                 TotalUSDPrize\n",
       "Genre                                         \n",
       "Multiplayer Online Battle Arena  992567.194775\n",
       "First-Person Shooter             339337.100594"
      ]
     },
     "execution_count": 75,
     "metadata": {},
     "output_type": "execute_result"
    }
   ],
   "source": [
    "Genre_2std = Genre_std.loc[['Multiplayer Online Battle Arena', 'First-Person Shooter']]\n",
    "Genre_2std"
   ]
  },
  {
   "cell_type": "code",
   "execution_count": 76,
   "id": "67296afc",
   "metadata": {},
   "outputs": [],
   "source": [
    "FPS_std = Genre_2std.loc [\"First-Person Shooter\"][0]\n",
    "MOBA_std = Genre_2std.loc [\"Multiplayer Online Battle Arena\"][0]"
   ]
  },
  {
   "cell_type": "code",
   "execution_count": 77,
   "id": "5a76d748",
   "metadata": {},
   "outputs": [
    {
     "name": "stdout",
     "output_type": "stream",
     "text": [
      "First-Person Shooter mean is  344448.65 and standard deviation is  339337\n",
      "Multiplayer Online Battle Arena mean is  585841.73 and standard deviation is  992567\n"
     ]
    }
   ],
   "source": [
    "print(\"First-Person Shooter mean is \", round(FPS_mean,2), \"and standard deviation is \", round(FPS_std),)\n",
    "print(\"Multiplayer Online Battle Arena mean is \", round(MOBA_mean,2), \"and standard deviation is \", round(MOBA_std),)"
   ]
  },
  {
   "cell_type": "code",
   "execution_count": 91,
   "id": "2f28fab2",
   "metadata": {},
   "outputs": [
    {
     "data": {
      "text/plain": [
       "Ttest_indResult(statistic=3.3375030843831204, pvalue=0.0008978246070385653)"
      ]
     },
     "execution_count": 91,
     "metadata": {},
     "output_type": "execute_result"
    }
   ],
   "source": [
    "# We take the t-student test for indenpendent samples\n",
    "test2 = ttest_ind(a=Prize_MPOBA, b=Prize_FPS)\n",
    "test2"
   ]
  },
  {
   "cell_type": "code",
   "execution_count": 92,
   "id": "17e5b469",
   "metadata": {},
   "outputs": [
    {
     "name": "stdout",
     "output_type": "stream",
     "text": [
      "P-value is 0.0008978246070385653 and significance level (alpha) is 0.05 \n",
      "reject NULL hypothesis -> there are diferences\n"
     ]
    }
   ],
   "source": [
    "print(f'P-value is {test2.pvalue} and significance level (alpha) is 0.05 ')\n",
    "alpha = 0.05\n",
    "if test2.pvalue < alpha:\n",
    "    print('reject NULL hypothesis -> there are diferences')\n",
    "else:\n",
    "    print('can\\'t reject NULL hypothesis')"
   ]
  },
  {
   "cell_type": "markdown",
   "id": "3dd1475b",
   "metadata": {},
   "source": [
    "#### We reject the NULL HYPOTHESIS that means there is enough evidence to say there are differences between both sample means.\n"
   ]
  },
  {
   "cell_type": "markdown",
   "id": "4348c8f8",
   "metadata": {},
   "source": [
    "## Nivell 3. Exercici 3\n",
    "### Continua amb el conjunt de dades de tema esportiu que t'agradi i selecciona tres atributs del conjunt de dades. Calcula el p-valor i digues si rebutja la hipòtesi nul·la agafant un alfa de 5%."
   ]
  },
  {
   "cell_type": "code",
   "execution_count": 94,
   "id": "a07704c5",
   "metadata": {},
   "outputs": [
    {
     "data": {
      "text/plain": [
       "kr    251\n",
       "cn    168\n",
       "us    114\n",
       "se     45\n",
       "fr     37\n",
       "Name: CountryCode, dtype: int64"
      ]
     },
     "execution_count": 94,
     "metadata": {},
     "output_type": "execute_result"
    }
   ],
   "source": [
    "# In this case we take the first three countries with more observations in the dataframe\n",
    "count = df['CountryCode'].value_counts() \n",
    "count.head()"
   ]
  },
  {
   "cell_type": "code",
   "execution_count": 95,
   "id": "5e9b0fa3",
   "metadata": {},
   "outputs": [
    {
     "data": {
      "text/html": [
       "<div>\n",
       "<style scoped>\n",
       "    .dataframe tbody tr th:only-of-type {\n",
       "        vertical-align: middle;\n",
       "    }\n",
       "\n",
       "    .dataframe tbody tr th {\n",
       "        vertical-align: top;\n",
       "    }\n",
       "\n",
       "    .dataframe thead th {\n",
       "        text-align: right;\n",
       "    }\n",
       "</style>\n",
       "<table border=\"1\" class=\"dataframe\">\n",
       "  <thead>\n",
       "    <tr style=\"text-align: right;\">\n",
       "      <th></th>\n",
       "      <th>PlayerId</th>\n",
       "      <th>NameFirst</th>\n",
       "      <th>NameLast</th>\n",
       "      <th>CurrentHandle</th>\n",
       "      <th>CountryCode</th>\n",
       "      <th>TotalUSDPrize</th>\n",
       "      <th>Game</th>\n",
       "      <th>Genre</th>\n",
       "    </tr>\n",
       "  </thead>\n",
       "  <tbody>\n",
       "    <tr>\n",
       "      <th>5</th>\n",
       "      <td>16800</td>\n",
       "      <td>Jakey</td>\n",
       "      <td>Yip</td>\n",
       "      <td>Stewie2k</td>\n",
       "      <td>us</td>\n",
       "      <td>1087340.00</td>\n",
       "      <td>Counter-Strike: Global Offensive</td>\n",
       "      <td>First-Person Shooter</td>\n",
       "    </tr>\n",
       "    <tr>\n",
       "      <th>12</th>\n",
       "      <td>11788</td>\n",
       "      <td>Jonathan</td>\n",
       "      <td>Jablonowski</td>\n",
       "      <td>ELiGE</td>\n",
       "      <td>us</td>\n",
       "      <td>930696.42</td>\n",
       "      <td>Counter-Strike: Global Offensive</td>\n",
       "      <td>First-Person Shooter</td>\n",
       "    </tr>\n",
       "    <tr>\n",
       "      <th>13</th>\n",
       "      <td>8635</td>\n",
       "      <td>Nick</td>\n",
       "      <td>Cannella</td>\n",
       "      <td>nitr0</td>\n",
       "      <td>us</td>\n",
       "      <td>920151.73</td>\n",
       "      <td>Counter-Strike: Global Offensive</td>\n",
       "      <td>First-Person Shooter</td>\n",
       "    </tr>\n",
       "    <tr>\n",
       "      <th>22</th>\n",
       "      <td>10630</td>\n",
       "      <td>Tarik</td>\n",
       "      <td>Celik</td>\n",
       "      <td>tarik</td>\n",
       "      <td>us</td>\n",
       "      <td>780039.21</td>\n",
       "      <td>Counter-Strike: Global Offensive</td>\n",
       "      <td>First-Person Shooter</td>\n",
       "    </tr>\n",
       "    <tr>\n",
       "      <th>36</th>\n",
       "      <td>4311</td>\n",
       "      <td>Will</td>\n",
       "      <td>Wierzba</td>\n",
       "      <td>Rush</td>\n",
       "      <td>us</td>\n",
       "      <td>586616.00</td>\n",
       "      <td>Counter-Strike: Global Offensive</td>\n",
       "      <td>First-Person Shooter</td>\n",
       "    </tr>\n",
       "  </tbody>\n",
       "</table>\n",
       "</div>"
      ],
      "text/plain": [
       "    PlayerId NameFirst     NameLast CurrentHandle CountryCode  TotalUSDPrize  \\\n",
       "5      16800     Jakey          Yip      Stewie2k          us     1087340.00   \n",
       "12     11788  Jonathan  Jablonowski         ELiGE          us      930696.42   \n",
       "13      8635      Nick     Cannella         nitr0          us      920151.73   \n",
       "22     10630     Tarik        Celik         tarik          us      780039.21   \n",
       "36      4311      Will      Wierzba          Rush          us      586616.00   \n",
       "\n",
       "                                Game                 Genre  \n",
       "5   Counter-Strike: Global Offensive  First-Person Shooter  \n",
       "12  Counter-Strike: Global Offensive  First-Person Shooter  \n",
       "13  Counter-Strike: Global Offensive  First-Person Shooter  \n",
       "22  Counter-Strike: Global Offensive  First-Person Shooter  \n",
       "36  Counter-Strike: Global Offensive  First-Person Shooter  "
      ]
     },
     "execution_count": 95,
     "metadata": {},
     "output_type": "execute_result"
    }
   ],
   "source": [
    "df3 = df.loc[df[\"CountryCode\"].isin([\"kr\", \"cn\", \"us\"])]\n",
    "df3.head()"
   ]
  },
  {
   "cell_type": "code",
   "execution_count": 96,
   "id": "12067a75",
   "metadata": {},
   "outputs": [],
   "source": [
    "# Tomamos los tres primeros países que entran en las competiciones: korea, china, usa\n",
    "# One way t-test ANOVA \n",
    "Korea_Country = df3[df3.CountryCode == 'kr']['TotalUSDPrize']\n",
    "China_Country = df3[df3.CountryCode == 'cn']['TotalUSDPrize']\n",
    "US_Country = df3[df3.CountryCode == 'us']['TotalUSDPrize']"
   ]
  },
  {
   "cell_type": "code",
   "execution_count": 97,
   "id": "6d6a2f65",
   "metadata": {},
   "outputs": [
    {
     "data": {
      "text/html": [
       "<div>\n",
       "<style scoped>\n",
       "    .dataframe tbody tr th:only-of-type {\n",
       "        vertical-align: middle;\n",
       "    }\n",
       "\n",
       "    .dataframe tbody tr th {\n",
       "        vertical-align: top;\n",
       "    }\n",
       "\n",
       "    .dataframe thead th {\n",
       "        text-align: right;\n",
       "    }\n",
       "</style>\n",
       "<table border=\"1\" class=\"dataframe\">\n",
       "  <thead>\n",
       "    <tr style=\"text-align: right;\">\n",
       "      <th></th>\n",
       "      <th>TotalUSDPrize</th>\n",
       "    </tr>\n",
       "    <tr>\n",
       "      <th>CountryCode</th>\n",
       "      <th></th>\n",
       "    </tr>\n",
       "  </thead>\n",
       "  <tbody>\n",
       "    <tr>\n",
       "      <th>cn</th>\n",
       "      <td>430904.04</td>\n",
       "    </tr>\n",
       "    <tr>\n",
       "      <th>kr</th>\n",
       "      <td>232835.59</td>\n",
       "    </tr>\n",
       "    <tr>\n",
       "      <th>us</th>\n",
       "      <td>378064.75</td>\n",
       "    </tr>\n",
       "  </tbody>\n",
       "</table>\n",
       "</div>"
      ],
      "text/plain": [
       "             TotalUSDPrize\n",
       "CountryCode               \n",
       "cn               430904.04\n",
       "kr               232835.59\n",
       "us               378064.75"
      ]
     },
     "execution_count": 97,
     "metadata": {},
     "output_type": "execute_result"
    }
   ],
   "source": [
    "# Comparamos las medias para cada país\n",
    "Country_means = df3.groupby('CountryCode').mean()[['TotalUSDPrize']]\n",
    "round(Country_means,2) "
   ]
  },
  {
   "cell_type": "code",
   "execution_count": 98,
   "id": "1b573863",
   "metadata": {},
   "outputs": [
    {
     "name": "stdout",
     "output_type": "stream",
     "text": [
      "F_onewayResult(statistic=10.447770299433403, pvalue=3.5461114321491386e-05)\n"
     ]
    }
   ],
   "source": [
    "test3 = f_oneway(Korea_Country,China_Country,US_Country)\n",
    "print(test3)"
   ]
  },
  {
   "cell_type": "code",
   "execution_count": 102,
   "id": "9e08767c",
   "metadata": {},
   "outputs": [
    {
     "name": "stdout",
     "output_type": "stream",
     "text": [
      "reject NULL hypothesis, there are no differences between the three sample means\n"
     ]
    }
   ],
   "source": [
    "alpha = 0.05\n",
    "if test3.pvalue < alpha:\n",
    "    print('reject NULL hypothesis, there are no differences between the three sample means')\n",
    "else:\n",
    "    print('fail to reject NULL hypothesis --> apparently there are no differences between the three sample means')"
   ]
  },
  {
   "cell_type": "code",
   "execution_count": 115,
   "id": "bcd3aa5a",
   "metadata": {},
   "outputs": [
    {
     "data": {
      "text/plain": [
       "Text(0.5, 1.0, 'Three countries Korea, China, USA samples')"
      ]
     },
     "execution_count": 115,
     "metadata": {},
     "output_type": "execute_result"
    },
    {
     "data": {
      "image/png": "[encoded data removed]",
      "text/plain": [
       "<Figure size 432x288 with 1 Axes>"
      ]
     },
     "metadata": {},
     "output_type": "display_data"
    }
   ],
   "source": [
    "#Graficamos los tres samples \n",
    "a = Korea_Country\n",
    "b = China_Country\n",
    "c = US_Country\n",
    "sns.kdeplot(a, shade=True)\n",
    "sns.kdeplot(b, shade=True)\n",
    "sns.kdeplot(c, shade=True)\n",
    "plt.title(\"Three countries Korea, China, USA samples\")"
   ]
  }
 ],
 "metadata": {
  "kernelspec": {
   "display_name": "Python 3",
   "language": "python",
   "name": "python3"
  },
  "language_info": {
   "codemirror_mode": {
    "name": "ipython",
    "version": 3
   },
   "file_extension": ".py",
   "mimetype": "text/x-python",
   "name": "python",
   "nbconvert_exporter": "python",
   "pygments_lexer": "ipython3",
   "version": "3.8.8"
  },
  "latex_envs": {
   "LaTeX_envs_menu_present": true,
   "autoclose": false,
   "autocomplete": true,
   "bibliofile": "biblio.bib",
   "cite_by": "apalike",
   "current_citInitial": 1,
   "eqLabelWithNumbers": true,
   "eqNumInitial": 1,
   "hotkeys": {
    "equation": "Ctrl-E",
    "itemize": "Ctrl-I"
   },
   "labels_anchors": false,
   "latex_user_defs": false,
   "report_style_numbering": false,
   "user_envs_cfg": false
  }
 },
 "nbformat": 4,
 "nbformat_minor": 5
}
