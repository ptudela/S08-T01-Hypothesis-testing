{
 "cells": [
  {
   "cell_type": "markdown",
   "id": "6103f085",
   "metadata": {},
   "source": [
    "# S08 T01: Tasca del test d'hipòtesis"
   ]
  },
  {
   "cell_type": "markdown",
   "id": "5fe920ab",
   "metadata": {},
   "source": [
    "## Nivell 1. Exercici 1\n",
    "### Agafa un conjunt de dades de tema esportiu que t'agradi i selecciona un atribut del conjunt de dades. Calcula el p-valor i digues si rebutja la hipòtesi nul·la agafant un alfa de 5%.  "
   ]
  },
  {
   "cell_type": "code",
   "execution_count": 1,
   "id": "c44bc052",
   "metadata": {},
   "outputs": [],
   "source": [
    "# Pandas for managing datasets\n",
    "import pandas as pd\n",
    "import numpy as np\n",
    "\n",
    "# Matplotlib for additional customization\n",
    "import matplotlib.pyplot as plt\n",
    "%matplotlib inline\n",
    "plt.style.use('ggplot')\n",
    "\n",
    "# Seaborn for plotting and styling\n",
    "import seaborn as sns\n",
    "\n",
    "#preprocessing and analysis\n",
    "import statsmodels.api as sm\n",
    "from scipy import stats\n",
    "from scipy.stats import ttest_1samp,ttest_ind\n",
    "from scipy.stats import f_oneway"
   ]
  },
  {
   "cell_type": "code",
   "execution_count": 2,
   "id": "79971a85",
   "metadata": {},
   "outputs": [
    {
     "data": {
      "text/html": [
       "<div>\n",
       "<style scoped>\n",
       "    .dataframe tbody tr th:only-of-type {\n",
       "        vertical-align: middle;\n",
       "    }\n",
       "\n",
       "    .dataframe tbody tr th {\n",
       "        vertical-align: top;\n",
       "    }\n",
       "\n",
       "    .dataframe thead th {\n",
       "        text-align: right;\n",
       "    }\n",
       "</style>\n",
       "<table border=\"1\" class=\"dataframe\">\n",
       "  <thead>\n",
       "    <tr style=\"text-align: right;\">\n",
       "      <th></th>\n",
       "      <th>PlayerId</th>\n",
       "      <th>NameFirst</th>\n",
       "      <th>NameLast</th>\n",
       "      <th>CurrentHandle</th>\n",
       "      <th>CountryCode</th>\n",
       "      <th>TotalUSDPrize</th>\n",
       "      <th>Game</th>\n",
       "      <th>Genre</th>\n",
       "    </tr>\n",
       "  </thead>\n",
       "  <tbody>\n",
       "    <tr>\n",
       "      <th>0</th>\n",
       "      <td>3883</td>\n",
       "      <td>Peter</td>\n",
       "      <td>Rasmussen</td>\n",
       "      <td>dupreeh</td>\n",
       "      <td>dk</td>\n",
       "      <td>1822989.41</td>\n",
       "      <td>Counter-Strike: Global Offensive</td>\n",
       "      <td>First-Person Shooter</td>\n",
       "    </tr>\n",
       "    <tr>\n",
       "      <th>1</th>\n",
       "      <td>3679</td>\n",
       "      <td>Andreas</td>\n",
       "      <td>Højsleth</td>\n",
       "      <td>Xyp9x</td>\n",
       "      <td>dk</td>\n",
       "      <td>1799288.57</td>\n",
       "      <td>Counter-Strike: Global Offensive</td>\n",
       "      <td>First-Person Shooter</td>\n",
       "    </tr>\n",
       "    <tr>\n",
       "      <th>2</th>\n",
       "      <td>3885</td>\n",
       "      <td>Nicolai</td>\n",
       "      <td>Reedtz</td>\n",
       "      <td>dev1ce</td>\n",
       "      <td>dk</td>\n",
       "      <td>1787489.88</td>\n",
       "      <td>Counter-Strike: Global Offensive</td>\n",
       "      <td>First-Person Shooter</td>\n",
       "    </tr>\n",
       "    <tr>\n",
       "      <th>3</th>\n",
       "      <td>3672</td>\n",
       "      <td>Lukas</td>\n",
       "      <td>Rossander</td>\n",
       "      <td>gla1ve</td>\n",
       "      <td>dk</td>\n",
       "      <td>1652350.75</td>\n",
       "      <td>Counter-Strike: Global Offensive</td>\n",
       "      <td>First-Person Shooter</td>\n",
       "    </tr>\n",
       "    <tr>\n",
       "      <th>4</th>\n",
       "      <td>17800</td>\n",
       "      <td>Emil</td>\n",
       "      <td>Reif</td>\n",
       "      <td>Magisk</td>\n",
       "      <td>dk</td>\n",
       "      <td>1416448.64</td>\n",
       "      <td>Counter-Strike: Global Offensive</td>\n",
       "      <td>First-Person Shooter</td>\n",
       "    </tr>\n",
       "  </tbody>\n",
       "</table>\n",
       "</div>"
      ],
      "text/plain": [
       "   PlayerId NameFirst   NameLast CurrentHandle CountryCode  TotalUSDPrize  \\\n",
       "0      3883     Peter  Rasmussen       dupreeh          dk     1822989.41   \n",
       "1      3679   Andreas   Højsleth         Xyp9x          dk     1799288.57   \n",
       "2      3885   Nicolai     Reedtz        dev1ce          dk     1787489.88   \n",
       "3      3672     Lukas  Rossander        gla1ve          dk     1652350.75   \n",
       "4     17800      Emil       Reif        Magisk          dk     1416448.64   \n",
       "\n",
       "                               Game                 Genre  \n",
       "0  Counter-Strike: Global Offensive  First-Person Shooter  \n",
       "1  Counter-Strike: Global Offensive  First-Person Shooter  \n",
       "2  Counter-Strike: Global Offensive  First-Person Shooter  \n",
       "3  Counter-Strike: Global Offensive  First-Person Shooter  \n",
       "4  Counter-Strike: Global Offensive  First-Person Shooter  "
      ]
     },
     "execution_count": 2,
     "metadata": {},
     "output_type": "execute_result"
    }
   ],
   "source": [
    "df = pd.read_csv(\"highest_earning_players.csv\")\n",
    "df.head()"
   ]
  },
  {
   "cell_type": "code",
   "execution_count": 3,
   "id": "4a2d0845",
   "metadata": {},
   "outputs": [
    {
     "data": {
      "text/plain": [
       "PlayerId         0\n",
       "NameFirst        0\n",
       "NameLast         0\n",
       "CurrentHandle    0\n",
       "CountryCode      0\n",
       "TotalUSDPrize    0\n",
       "Game             0\n",
       "Genre            0\n",
       "dtype: int64"
      ]
     },
     "execution_count": 3,
     "metadata": {},
     "output_type": "execute_result"
    }
   ],
   "source": [
    "df.isna().sum()"
   ]
  },
  {
   "cell_type": "code",
   "execution_count": 4,
   "id": "331352ee",
   "metadata": {},
   "outputs": [
    {
     "name": "stdout",
     "output_type": "stream",
     "text": [
      "Overwatch                           100\n",
      "Hearthstone                         100\n",
      "Arena of Valor                      100\n",
      "PUBG                                100\n",
      "League of Legends                   100\n",
      "Starcraft II                        100\n",
      "Fortnite                            100\n",
      "Dota 2                              100\n",
      "Heroes of the Storm                 100\n",
      "Counter-Strike: Global Offensive    100\n",
      "Name: Game, dtype: int64\n"
     ]
    }
   ],
   "source": [
    "count = df['Game'].value_counts() \n",
    "print(count) "
   ]
  },
  {
   "cell_type": "code",
   "execution_count": 5,
   "id": "cbbf9964",
   "metadata": {},
   "outputs": [
    {
     "data": {
      "text/plain": [
       "397793.22"
      ]
     },
     "execution_count": 5,
     "metadata": {},
     "output_type": "execute_result"
    }
   ],
   "source": [
    "# the mean of TotalUSDPrize for all the observations is:\n",
    "round(df[\"TotalUSDPrize\"].mean(),2)"
   ]
  },
  {
   "cell_type": "markdown",
   "id": "8456cc6e",
   "metadata": {},
   "source": [
    "#### Hypothesis\n",
    "\\begin{equation*}\n",
    "H_{0}: mu = 397793 \\end{equation*}\n",
    "\\begin{equation*} H_{A}: mu \\neq 397793\n",
    "\\end{equation*}\n",
    "\n",
    "##### We want to see if the mean prize for a specific game, Fortnite for instance, is or not equal to the mean prize for all the games.\n",
    "##### the hypothesis H 0  : the me mean prize for Fornite is equal to the mean prize for all games (397793)\n",
    "##### the hypothesis H A : both means are not equal."
   ]
  },
  {
   "cell_type": "code",
   "execution_count": 6,
   "id": "9bcbed70",
   "metadata": {
    "scrolled": false
   },
   "outputs": [
    {
     "data": {
      "text/html": [
       "<div>\n",
       "<style scoped>\n",
       "    .dataframe tbody tr th:only-of-type {\n",
       "        vertical-align: middle;\n",
       "    }\n",
       "\n",
       "    .dataframe tbody tr th {\n",
       "        vertical-align: top;\n",
       "    }\n",
       "\n",
       "    .dataframe thead th {\n",
       "        text-align: right;\n",
       "    }\n",
       "</style>\n",
       "<table border=\"1\" class=\"dataframe\">\n",
       "  <thead>\n",
       "    <tr style=\"text-align: right;\">\n",
       "      <th></th>\n",
       "      <th>PlayerId</th>\n",
       "      <th>NameFirst</th>\n",
       "      <th>NameLast</th>\n",
       "      <th>CurrentHandle</th>\n",
       "      <th>CountryCode</th>\n",
       "      <th>TotalUSDPrize</th>\n",
       "      <th>Game</th>\n",
       "      <th>Genre</th>\n",
       "    </tr>\n",
       "  </thead>\n",
       "  <tbody>\n",
       "    <tr>\n",
       "      <th>300</th>\n",
       "      <td>56483</td>\n",
       "      <td>Kyle</td>\n",
       "      <td>Giersdorf</td>\n",
       "      <td>Bugha</td>\n",
       "      <td>us</td>\n",
       "      <td>3141395.05</td>\n",
       "      <td>Fortnite</td>\n",
       "      <td>Battle Royale</td>\n",
       "    </tr>\n",
       "    <tr>\n",
       "      <th>301</th>\n",
       "      <td>59528</td>\n",
       "      <td>David</td>\n",
       "      <td>Wang</td>\n",
       "      <td>Aqua</td>\n",
       "      <td>at</td>\n",
       "      <td>1923774.23</td>\n",
       "      <td>Fortnite</td>\n",
       "      <td>Battle Royale</td>\n",
       "    </tr>\n",
       "    <tr>\n",
       "      <th>302</th>\n",
       "      <td>25047</td>\n",
       "      <td>Harrison</td>\n",
       "      <td>Chang</td>\n",
       "      <td>psalm</td>\n",
       "      <td>us</td>\n",
       "      <td>1873138.80</td>\n",
       "      <td>Fortnite</td>\n",
       "      <td>Battle Royale</td>\n",
       "    </tr>\n",
       "    <tr>\n",
       "      <th>303</th>\n",
       "      <td>54656</td>\n",
       "      <td>Emil</td>\n",
       "      <td>Bergquist Pedersen</td>\n",
       "      <td>Nyhrox</td>\n",
       "      <td>no</td>\n",
       "      <td>1536845.69</td>\n",
       "      <td>Fortnite</td>\n",
       "      <td>Battle Royale</td>\n",
       "    </tr>\n",
       "    <tr>\n",
       "      <th>304</th>\n",
       "      <td>61948</td>\n",
       "      <td>Shane</td>\n",
       "      <td>Cotton</td>\n",
       "      <td>EpikWhale</td>\n",
       "      <td>us</td>\n",
       "      <td>1349767.32</td>\n",
       "      <td>Fortnite</td>\n",
       "      <td>Battle Royale</td>\n",
       "    </tr>\n",
       "  </tbody>\n",
       "</table>\n",
       "</div>"
      ],
      "text/plain": [
       "     PlayerId NameFirst            NameLast CurrentHandle CountryCode  \\\n",
       "300     56483      Kyle           Giersdorf         Bugha          us   \n",
       "301     59528     David                Wang          Aqua          at   \n",
       "302     25047  Harrison               Chang         psalm          us   \n",
       "303     54656      Emil  Bergquist Pedersen        Nyhrox          no   \n",
       "304     61948     Shane              Cotton     EpikWhale          us   \n",
       "\n",
       "     TotalUSDPrize      Game          Genre  \n",
       "300     3141395.05  Fortnite  Battle Royale  \n",
       "301     1923774.23  Fortnite  Battle Royale  \n",
       "302     1873138.80  Fortnite  Battle Royale  \n",
       "303     1536845.69  Fortnite  Battle Royale  \n",
       "304     1349767.32  Fortnite  Battle Royale  "
      ]
     },
     "execution_count": 6,
     "metadata": {},
     "output_type": "execute_result"
    }
   ],
   "source": [
    "selection = df.loc[df['Game'] == \"Fortnite\"]\n",
    "selection.head()"
   ]
  },
  {
   "cell_type": "code",
   "execution_count": 7,
   "id": "8f11a4c2",
   "metadata": {},
   "outputs": [
    {
     "data": {
      "text/plain": [
       "Text(0, 0.5, 'Prize in dollars')"
      ]
     },
     "execution_count": 7,
     "metadata": {},
     "output_type": "execute_result"
    },
    {
     "data": {
      "image/png": "[encoded data removed]",
      "text/plain": [
       "<Figure size 720x360 with 1 Axes>"
      ]
     },
     "metadata": {},
     "output_type": "display_data"
    }
   ],
   "source": [
    "# Graphic of prize distribution: Fornite game\n",
    "fig, ax = plt.subplots(figsize =(10, 5))\n",
    "g = sns.histplot(data = selection, x='TotalUSDPrize', alpha = 1, color = 'navy', bins = 60, kde = True)\n",
    "plt.title('The total prize by Game Fortnite (in USD)', fontsize=20)\n",
    "plt.xlabel('Fortnite')\n",
    "plt.ylabel('Prize in dollars')"
   ]
  },
  {
   "cell_type": "code",
   "execution_count": 8,
   "id": "a23db544",
   "metadata": {},
   "outputs": [
    {
     "data": {
      "text/plain": [
       "Text(0, 0.5, 'Prize in dollars')"
      ]
     },
     "execution_count": 8,
     "metadata": {},
     "output_type": "execute_result"
    },
    {
     "data": {
      "image/png": "[encoded data removed]",
      "text/plain": [
       "<Figure size 720x360 with 1 Axes>"
      ]
     },
     "metadata": {},
     "output_type": "display_data"
    }
   ],
   "source": [
    "# Graphic of prize distribution total df\n",
    "fig, ax = plt.subplots(figsize =(10, 5))\n",
    "g = sns.histplot(data = df, x='TotalUSDPrize', alpha = 1, color = 'navy', bins = 60, kde = True)\n",
    "plt.title('The total prize (in USD)', fontsize=20)\n",
    "plt.xlabel('Total Games')\n",
    "plt.ylabel('Prize in dollars')"
   ]
  },
  {
   "cell_type": "code",
   "execution_count": 9,
   "id": "92af6bff",
   "metadata": {},
   "outputs": [
    {
     "data": {
      "text/plain": [
       "Text(0.5, 1.0, 'Independent Sample T-Test')"
      ]
     },
     "execution_count": 9,
     "metadata": {},
     "output_type": "execute_result"
    },
    {
     "data": {
      "image/png": "[encoded data removed]",
      "text/plain": [
       "<Figure size 432x288 with 1 Axes>"
      ]
     },
     "metadata": {},
     "output_type": "display_data"
    }
   ],
   "source": [
    "# histogram of our 2 samples\n",
    "a = df.TotalUSDPrize\n",
    "b = selection.TotalUSDPrize\n",
    "sns.kdeplot(a, shade=True)\n",
    "sns.kdeplot(b, shade=True)\n",
    "plt.title(\"Independent Sample T-Test\")"
   ]
  },
  {
   "cell_type": "code",
   "execution_count": 10,
   "id": "98300e90",
   "metadata": {},
   "outputs": [
    {
     "data": {
      "text/plain": [
       "434093.71"
      ]
     },
     "execution_count": 10,
     "metadata": {},
     "output_type": "execute_result"
    }
   ],
   "source": [
    "# We take the mean prize for League of Legends\n",
    "Fortnite_mean = round(selection[\"TotalUSDPrize\"].mean(),2)\n",
    "Fortnite_mean"
   ]
  },
  {
   "cell_type": "code",
   "execution_count": 11,
   "id": "ccf5df1d",
   "metadata": {},
   "outputs": [
    {
     "name": "stdout",
     "output_type": "stream",
     "text": [
      "P-Value:0.444085700072847 T-Statistic:0.768388135411425\n"
     ]
    }
   ],
   "source": [
    "# 1-sample t-test \n",
    "# We are going to verify if the mean of the Game \"League of Legends\" is equal or not to the mean for all Games.\n",
    "#perform one sample t-test\n",
    "tStat, pValue = ttest_1samp(a=selection[\"TotalUSDPrize\"], popmean=397793)\n",
    "print(\"P-Value:{0} T-Statistic:{1}\".format(pValue,tStat))"
   ]
  },
  {
   "cell_type": "code",
   "execution_count": 12,
   "id": "3deca7ba",
   "metadata": {},
   "outputs": [
    {
     "name": "stdout",
     "output_type": "stream",
     "text": [
      "we are accepting null hypothesis\n"
     ]
    }
   ],
   "source": [
    "if pValue < (0.05/2):    # alpha value is 0.05 or 5%\n",
    "   print(\" we are rejecting null hypothesis\")\n",
    "else:\n",
    "  print(\"we are accepting null hypothesis\")"
   ]
  },
  {
   "cell_type": "markdown",
   "id": "ba03e417",
   "metadata": {},
   "source": [
    "#### In this example, we accept null hypothesis, there are not differences between the both means."
   ]
  },
  {
   "cell_type": "code",
   "execution_count": null,
   "id": "15c9cd29",
   "metadata": {},
   "outputs": [],
   "source": [
    "# We try another example, in this case with a random sample (100 observations)"
   ]
  },
  {
   "cell_type": "code",
   "execution_count": 13,
   "id": "303136b5",
   "metadata": {},
   "outputs": [
    {
     "data": {
      "text/plain": [
       "array([  70101.26,  801915.23,  249497.86, 1021000.  ,  197139.97,\n",
       "         80924.07,  205477.15,   57792.  ,  159833.35,   57198.2 ,\n",
       "         74382.47,   46641.1 ,   46258.63,   28860.  ,   90452.98,\n",
       "         96604.3 ,  147050.  ,  176598.27,   92282.22,   88040.91,\n",
       "        106288.65,  284845.29,  156207.98,   74811.76,  102887.5 ,\n",
       "         89346.12,  349557.33,  153763.01,  987072.69,  164025.25,\n",
       "        114725.  ,  763799.57,   53541.  ,  360201.28,   28816.  ,\n",
       "         25941.03,  327424.24,  100930.84,   63405.8 ,  705536.2 ,\n",
       "        271316.73,   77943.68, 1781891.47, 1221917.1 ,  324900.  ,\n",
       "         78375.  ,  517888.39,  141938.84,   33892.33,  304291.61,\n",
       "         93903.11,  257257.41,   89250.  ,   85836.53,  297730.97,\n",
       "         50549.34,   42482.43, 1598492.49,  360201.28,   64255.11,\n",
       "         51663.14,   85804.45,   61027.02,  337832.12,   47549.95,\n",
       "         81812.25,  531541.99,  125173.05,  167420.62,   55685.67,\n",
       "        298622.85,   56250.  ,  682248.64,  531541.99,  360841.67,\n",
       "        157268.25,   55453.17,  165348.34,  133380.96,   58160.23,\n",
       "        323127.22,  236690.51,  170679.58,  136120.04,  379664.5 ,\n",
       "         64742.6 ,  781396.55,  372788.71,  188212.42,  136820.  ,\n",
       "         67742.92,   77997.16,  513805.74,  147500.  , 2551657.34,\n",
       "         85804.45,  153116.49,  269446.78,  312948.02,  256374.45])"
      ]
     },
     "execution_count": 13,
     "metadata": {},
     "output_type": "execute_result"
    }
   ],
   "source": [
    "# We take a random sample (=100)\n",
    "sample_size = 100\n",
    "prize_sample = np.random.choice(df[\"TotalUSDPrize\"], sample_size)\n",
    "prize_sample"
   ]
  },
  {
   "cell_type": "code",
   "execution_count": 14,
   "id": "1515e556",
   "metadata": {},
   "outputs": [
    {
     "data": {
      "text/plain": [
       "277667.52"
      ]
     },
     "execution_count": 14,
     "metadata": {},
     "output_type": "execute_result"
    }
   ],
   "source": [
    "round(prize_sample.mean(),2)"
   ]
  },
  {
   "cell_type": "code",
   "execution_count": 15,
   "id": "0f102be2",
   "metadata": {},
   "outputs": [
    {
     "name": "stdout",
     "output_type": "stream",
     "text": [
      "P-Value:0.0024353545682364907 T-Statistic:-3.1111270388247254\n"
     ]
    }
   ],
   "source": [
    "tStat, pValue =  stats.ttest_1samp(a=prize_sample, popmean=397793, axis=0)\n",
    "print(\"P-Value:{0} T-Statistic:{1}\".format(pValue,tStat))"
   ]
  },
  {
   "cell_type": "code",
   "execution_count": 17,
   "id": "aa09237d",
   "metadata": {},
   "outputs": [
    {
     "name": "stdout",
     "output_type": "stream",
     "text": [
      " we are rejecting null hypothesis\n"
     ]
    }
   ],
   "source": [
    "if pValue < (0.05/2):    # alpha value is 0.05 or 5%\n",
    "   print(\" we are rejecting null hypothesis\")\n",
    "else:\n",
    "  print(\"we are accepting null hypothesis\")"
   ]
  },
  {
   "cell_type": "markdown",
   "id": "711bfd11",
   "metadata": {},
   "source": [
    "##### In this case we reject the null hypothesis. That means there are differences between the two means.\n"
   ]
  },
  {
   "cell_type": "code",
   "execution_count": 19,
   "id": "bd62cf63",
   "metadata": {},
   "outputs": [
    {
     "data": {
      "text/plain": [
       "Text(0.5, 1.0, 'First and second T-Test')"
      ]
     },
     "execution_count": 19,
     "metadata": {},
     "output_type": "execute_result"
    },
    {
     "data": {
      "image/png": "[encoded data removed]",
      "text/plain": [
       "<Figure size 432x288 with 1 Axes>"
      ]
     },
     "metadata": {},
     "output_type": "display_data"
    }
   ],
   "source": [
    "#Graficamos los dos samples \n",
    "a = df.TotalUSDPrize\n",
    "b = prize_sample\n",
    "sns.kdeplot(a, shade=True)\n",
    "sns.kdeplot(b, shade=True)\n",
    "plt.title(\"First and second T-Test\")"
   ]
  },
  {
   "cell_type": "markdown",
   "id": "e3cf1cf3",
   "metadata": {},
   "source": [
    "## Nivell 2. Exercici 2\n",
    "### Continua amb el conjunt de dades de tema esportiu que t'agradi i selecciona dos altres atributs del conjunt de dades. Calcula els p-valors i digues si rebutgen la hipòtesi nul·la agafant un alfa de 5%."
   ]
  },
  {
   "cell_type": "code",
   "execution_count": 20,
   "id": "2c263a23",
   "metadata": {},
   "outputs": [
    {
     "data": {
      "text/plain": [
       "Multiplayer Online Battle Arena    400\n",
       "First-Person Shooter               200\n",
       "Battle Royale                      200\n",
       "Collectible Card Game              100\n",
       "Strategy                           100\n",
       "Name: Genre, dtype: int64"
      ]
     },
     "execution_count": 20,
     "metadata": {},
     "output_type": "execute_result"
    }
   ],
   "source": [
    "# Those are the genres in e-games\n",
    "df.Genre.value_counts() "
   ]
  },
  {
   "cell_type": "markdown",
   "id": "e860f92a",
   "metadata": {},
   "source": [
    "##### We want to know if there are significant difference between two genres means.\n",
    "##### In this case we choose Multiplayer Online Battle Arena and First-Person Shooter\n",
    "##### H0 : there is no difference in the average prize between the two genres\n",
    "##### HA : there is difference between the average prize between the two genres"
   ]
  },
  {
   "cell_type": "code",
   "execution_count": 34,
   "id": "c6e6b467",
   "metadata": {},
   "outputs": [
    {
     "name": "stdout",
     "output_type": "stream",
     "text": [
      "average Prize for Multiplayer Online Battle Arena is: 585841.7312249991\n"
     ]
    },
    {
     "data": {
      "image/png": "[encoded data removed]",
      "text/plain": [
       "<Figure size 432x288 with 1 Axes>"
      ]
     },
     "metadata": {},
     "output_type": "display_data"
    }
   ],
   "source": [
    "# We selec the genre \"Multiplayer Online Battle Arena\" and we ask for the mean prize.\n",
    "Prize_MPOBA = df[df.Genre == \"Multiplayer Online Battle Arena\"].TotalUSDPrize\n",
    "sns.histplot(Prize_MPOBA)\n",
    "print(f'average Prize for Multiplayer Online Battle Arena is:', Prize_MPOBA.mean())"
   ]
  },
  {
   "cell_type": "code",
   "execution_count": 35,
   "id": "58e3069a",
   "metadata": {},
   "outputs": [
    {
     "data": {
      "text/plain": [
       "585841.7312249991"
      ]
     },
     "execution_count": 35,
     "metadata": {},
     "output_type": "execute_result"
    }
   ],
   "source": [
    "Prize_MPOBA.mean()"
   ]
  },
  {
   "cell_type": "code",
   "execution_count": 36,
   "id": "f90ba41d",
   "metadata": {},
   "outputs": [
    {
     "name": "stdout",
     "output_type": "stream",
     "text": [
      "average prize for First-Person Shooter is:  344448.64700000035\n"
     ]
    },
    {
     "data": {
      "image/png": "[encoded data removed]",
      "text/plain": [
       "<Figure size 432x288 with 1 Axes>"
      ]
     },
     "metadata": {},
     "output_type": "display_data"
    }
   ],
   "source": [
    "# We selec another genre: \"First-Person Shooter\" and we ask for the mean prize.\n",
    "Prize_FPS  = df[df.Genre=='First-Person Shooter'].TotalUSDPrize\n",
    "sns.histplot(Prize_FPS)\n",
    "print(f'average prize for First-Person Shooter is: ', Prize_FPS.mean())"
   ]
  },
  {
   "cell_type": "code",
   "execution_count": 37,
   "id": "56f11bfb",
   "metadata": {},
   "outputs": [
    {
     "data": {
      "text/html": [
       "<div>\n",
       "<style scoped>\n",
       "    .dataframe tbody tr th:only-of-type {\n",
       "        vertical-align: middle;\n",
       "    }\n",
       "\n",
       "    .dataframe tbody tr th {\n",
       "        vertical-align: top;\n",
       "    }\n",
       "\n",
       "    .dataframe thead th {\n",
       "        text-align: right;\n",
       "    }\n",
       "</style>\n",
       "<table border=\"1\" class=\"dataframe\">\n",
       "  <thead>\n",
       "    <tr style=\"text-align: right;\">\n",
       "      <th></th>\n",
       "      <th>TotalUSDPrize</th>\n",
       "    </tr>\n",
       "    <tr>\n",
       "      <th>Genre</th>\n",
       "      <th></th>\n",
       "    </tr>\n",
       "  </thead>\n",
       "  <tbody>\n",
       "    <tr>\n",
       "      <th>Battle Royale</th>\n",
       "      <td>279256.65</td>\n",
       "    </tr>\n",
       "    <tr>\n",
       "      <th>Collectible Card Game</th>\n",
       "      <td>133356.41</td>\n",
       "    </tr>\n",
       "    <tr>\n",
       "      <th>First-Person Shooter</th>\n",
       "      <td>344448.65</td>\n",
       "    </tr>\n",
       "    <tr>\n",
       "      <th>Multiplayer Online Battle Arena</th>\n",
       "      <td>585841.73</td>\n",
       "    </tr>\n",
       "    <tr>\n",
       "      <th>Strategy</th>\n",
       "      <td>253798.24</td>\n",
       "    </tr>\n",
       "  </tbody>\n",
       "</table>\n",
       "</div>"
      ],
      "text/plain": [
       "                                 TotalUSDPrize\n",
       "Genre                                         \n",
       "Battle Royale                        279256.65\n",
       "Collectible Card Game                133356.41\n",
       "First-Person Shooter                 344448.65\n",
       "Multiplayer Online Battle Arena      585841.73\n",
       "Strategy                             253798.24"
      ]
     },
     "execution_count": 37,
     "metadata": {},
     "output_type": "execute_result"
    }
   ],
   "source": [
    "Genre_means = df.groupby('Genre').mean()[['TotalUSDPrize']]\n",
    "round(Genre_means,2)"
   ]
  },
  {
   "cell_type": "code",
   "execution_count": 38,
   "id": "bbdb6d9d",
   "metadata": {},
   "outputs": [
    {
     "data": {
      "text/html": [
       "<div>\n",
       "<style scoped>\n",
       "    .dataframe tbody tr th:only-of-type {\n",
       "        vertical-align: middle;\n",
       "    }\n",
       "\n",
       "    .dataframe tbody tr th {\n",
       "        vertical-align: top;\n",
       "    }\n",
       "\n",
       "    .dataframe thead th {\n",
       "        text-align: right;\n",
       "    }\n",
       "</style>\n",
       "<table border=\"1\" class=\"dataframe\">\n",
       "  <thead>\n",
       "    <tr style=\"text-align: right;\">\n",
       "      <th></th>\n",
       "      <th>TotalUSDPrize</th>\n",
       "    </tr>\n",
       "    <tr>\n",
       "      <th>Genre</th>\n",
       "      <th></th>\n",
       "    </tr>\n",
       "  </thead>\n",
       "  <tbody>\n",
       "    <tr>\n",
       "      <th>First-Person Shooter</th>\n",
       "      <td>344448.647000</td>\n",
       "    </tr>\n",
       "    <tr>\n",
       "      <th>Multiplayer Online Battle Arena</th>\n",
       "      <td>585841.731225</td>\n",
       "    </tr>\n",
       "  </tbody>\n",
       "</table>\n",
       "</div>"
      ],
      "text/plain": [
       "                                 TotalUSDPrize\n",
       "Genre                                         \n",
       "First-Person Shooter             344448.647000\n",
       "Multiplayer Online Battle Arena  585841.731225"
      ]
     },
     "execution_count": 38,
     "metadata": {},
     "output_type": "execute_result"
    }
   ],
   "source": [
    "Genre_2means = Genre_means.loc[['First-Person Shooter', 'Multiplayer Online Battle Arena']]\n",
    "Genre_2means"
   ]
  },
  {
   "cell_type": "code",
   "execution_count": 39,
   "id": "eaaebff6",
   "metadata": {},
   "outputs": [],
   "source": [
    "FPS_mean = Genre_2means.loc [\"First-Person Shooter\"][0]\n",
    "MOBA_mean = Genre_2means.loc [\"Multiplayer Online Battle Arena\"][0]"
   ]
  },
  {
   "cell_type": "code",
   "execution_count": 40,
   "id": "fb2a6dba",
   "metadata": {},
   "outputs": [
    {
     "data": {
      "text/html": [
       "<div>\n",
       "<style scoped>\n",
       "    .dataframe tbody tr th:only-of-type {\n",
       "        vertical-align: middle;\n",
       "    }\n",
       "\n",
       "    .dataframe tbody tr th {\n",
       "        vertical-align: top;\n",
       "    }\n",
       "\n",
       "    .dataframe thead th {\n",
       "        text-align: right;\n",
       "    }\n",
       "</style>\n",
       "<table border=\"1\" class=\"dataframe\">\n",
       "  <thead>\n",
       "    <tr style=\"text-align: right;\">\n",
       "      <th></th>\n",
       "      <th>TotalUSDPrize</th>\n",
       "    </tr>\n",
       "    <tr>\n",
       "      <th>Genre</th>\n",
       "      <th></th>\n",
       "    </tr>\n",
       "  </thead>\n",
       "  <tbody>\n",
       "    <tr>\n",
       "      <th>Battle Royale</th>\n",
       "      <td>376291.373</td>\n",
       "    </tr>\n",
       "    <tr>\n",
       "      <th>Collectible Card Game</th>\n",
       "      <td>91065.096</td>\n",
       "    </tr>\n",
       "    <tr>\n",
       "      <th>First-Person Shooter</th>\n",
       "      <td>339337.101</td>\n",
       "    </tr>\n",
       "    <tr>\n",
       "      <th>Multiplayer Online Battle Arena</th>\n",
       "      <td>992567.195</td>\n",
       "    </tr>\n",
       "    <tr>\n",
       "      <th>Strategy</th>\n",
       "      <td>198768.539</td>\n",
       "    </tr>\n",
       "  </tbody>\n",
       "</table>\n",
       "</div>"
      ],
      "text/plain": [
       "                                 TotalUSDPrize\n",
       "Genre                                         \n",
       "Battle Royale                       376291.373\n",
       "Collectible Card Game                91065.096\n",
       "First-Person Shooter                339337.101\n",
       "Multiplayer Online Battle Arena     992567.195\n",
       "Strategy                            198768.539"
      ]
     },
     "execution_count": 40,
     "metadata": {},
     "output_type": "execute_result"
    }
   ],
   "source": [
    "# Std by Genre\n",
    "Genre_std = df.groupby('Genre').agg(np.std, ddof=0)[['TotalUSDPrize']]\n",
    "round(Genre_std,3)"
   ]
  },
  {
   "cell_type": "code",
   "execution_count": 41,
   "id": "85af03ea",
   "metadata": {},
   "outputs": [
    {
     "data": {
      "text/html": [
       "<div>\n",
       "<style scoped>\n",
       "    .dataframe tbody tr th:only-of-type {\n",
       "        vertical-align: middle;\n",
       "    }\n",
       "\n",
       "    .dataframe tbody tr th {\n",
       "        vertical-align: top;\n",
       "    }\n",
       "\n",
       "    .dataframe thead th {\n",
       "        text-align: right;\n",
       "    }\n",
       "</style>\n",
       "<table border=\"1\" class=\"dataframe\">\n",
       "  <thead>\n",
       "    <tr style=\"text-align: right;\">\n",
       "      <th></th>\n",
       "      <th>TotalUSDPrize</th>\n",
       "    </tr>\n",
       "    <tr>\n",
       "      <th>Genre</th>\n",
       "      <th></th>\n",
       "    </tr>\n",
       "  </thead>\n",
       "  <tbody>\n",
       "    <tr>\n",
       "      <th>Multiplayer Online Battle Arena</th>\n",
       "      <td>992567.194775</td>\n",
       "    </tr>\n",
       "    <tr>\n",
       "      <th>First-Person Shooter</th>\n",
       "      <td>339337.100594</td>\n",
       "    </tr>\n",
       "  </tbody>\n",
       "</table>\n",
       "</div>"
      ],
      "text/plain": [
       "                                 TotalUSDPrize\n",
       "Genre                                         \n",
       "Multiplayer Online Battle Arena  992567.194775\n",
       "First-Person Shooter             339337.100594"
      ]
     },
     "execution_count": 41,
     "metadata": {},
     "output_type": "execute_result"
    }
   ],
   "source": [
    "Genre_2std = Genre_std.loc[['Multiplayer Online Battle Arena', 'First-Person Shooter']]\n",
    "Genre_2std"
   ]
  },
  {
   "cell_type": "code",
   "execution_count": 42,
   "id": "67296afc",
   "metadata": {},
   "outputs": [],
   "source": [
    "FPS_std = Genre_2std.loc [\"First-Person Shooter\"][0]\n",
    "MOBA_std = Genre_2std.loc [\"Multiplayer Online Battle Arena\"][0]"
   ]
  },
  {
   "cell_type": "code",
   "execution_count": 43,
   "id": "5a76d748",
   "metadata": {},
   "outputs": [
    {
     "name": "stdout",
     "output_type": "stream",
     "text": [
      "First-Person Shooter mean is  344448.65 and standard deviation is  339337\n",
      "Multiplayer Online Battle Arena mean is  585841.73 and standard deviation is  992567\n"
     ]
    }
   ],
   "source": [
    "print(\"First-Person Shooter mean is \", round(FPS_mean,2), \"and standard deviation is \", round(FPS_std),)\n",
    "print(\"Multiplayer Online Battle Arena mean is \", round(MOBA_mean,2), \"and standard deviation is \", round(MOBA_std),)"
   ]
  },
  {
   "cell_type": "code",
   "execution_count": 44,
   "id": "2f28fab2",
   "metadata": {},
   "outputs": [
    {
     "data": {
      "text/plain": [
       "Ttest_indResult(statistic=3.3375030843831204, pvalue=0.0008978246070385653)"
      ]
     },
     "execution_count": 44,
     "metadata": {},
     "output_type": "execute_result"
    }
   ],
   "source": [
    "# t-student test for indenpendent samples\n",
    "test2 = ttest_ind(a=Prize_MPOBA, b=Prize_FPS)\n",
    "test2"
   ]
  },
  {
   "cell_type": "code",
   "execution_count": 46,
   "id": "17e5b469",
   "metadata": {},
   "outputs": [
    {
     "name": "stdout",
     "output_type": "stream",
     "text": [
      "P-value is 0.0008978246070385653 and significance level (alpha) is 0.025 (two sides) \n",
      "reject NULL hypothesis -> there are diferences\n"
     ]
    }
   ],
   "source": [
    "print(f'P-value is {test2.pvalue} and significance level (alpha) is 0.025 (two sides) ')\n",
    "alpha = (0.05/2)\n",
    "if test2.pvalue < alpha:\n",
    "    print('reject NULL hypothesis -> there are diferences')\n",
    "else:\n",
    "    print('can\\'t reject NULL hypothesis')"
   ]
  },
  {
   "cell_type": "markdown",
   "id": "3dd1475b",
   "metadata": {},
   "source": [
    "#### We reject the NULL HYPOTHESIS that means there is enough evidence to say there are differences between both sample means.\n"
   ]
  },
  {
   "cell_type": "markdown",
   "id": "4348c8f8",
   "metadata": {},
   "source": [
    "## Nivell 3. Exercici 3\n",
    "### Continua amb el conjunt de dades de tema esportiu que t'agradi i selecciona tres atributs del conjunt de dades. Calcula el p-valor i digues si rebutja la hipòtesi nul·la agafant un alfa de 5%."
   ]
  },
  {
   "cell_type": "code",
   "execution_count": 47,
   "id": "a07704c5",
   "metadata": {},
   "outputs": [
    {
     "data": {
      "text/plain": [
       "kr    251\n",
       "cn    168\n",
       "us    114\n",
       "se     45\n",
       "ca     37\n",
       "Name: CountryCode, dtype: int64"
      ]
     },
     "execution_count": 47,
     "metadata": {},
     "output_type": "execute_result"
    }
   ],
   "source": [
    "# In this case we take the first three countries with more observations in the dataframe\n",
    "count = df['CountryCode'].value_counts() \n",
    "count.head()"
   ]
  },
  {
   "cell_type": "markdown",
   "id": "5fa3b573",
   "metadata": {},
   "source": [
    "##### We want to know if there are significant difference between the means of the three countries with more observations.\n",
    "##### In this case we choose Kr (Corea); cn (China); us (USA)\n",
    "##### H0 : There is no difference in the average prize between the three countries; they are all the same\n",
    "##### HA : The average prize is not the same between the three countries."
   ]
  },
  {
   "cell_type": "code",
   "execution_count": 50,
   "id": "5e9b0fa3",
   "metadata": {},
   "outputs": [
    {
     "data": {
      "text/html": [
       "<div>\n",
       "<style scoped>\n",
       "    .dataframe tbody tr th:only-of-type {\n",
       "        vertical-align: middle;\n",
       "    }\n",
       "\n",
       "    .dataframe tbody tr th {\n",
       "        vertical-align: top;\n",
       "    }\n",
       "\n",
       "    .dataframe thead th {\n",
       "        text-align: right;\n",
       "    }\n",
       "</style>\n",
       "<table border=\"1\" class=\"dataframe\">\n",
       "  <thead>\n",
       "    <tr style=\"text-align: right;\">\n",
       "      <th></th>\n",
       "      <th>PlayerId</th>\n",
       "      <th>NameFirst</th>\n",
       "      <th>NameLast</th>\n",
       "      <th>CurrentHandle</th>\n",
       "      <th>CountryCode</th>\n",
       "      <th>TotalUSDPrize</th>\n",
       "      <th>Game</th>\n",
       "      <th>Genre</th>\n",
       "    </tr>\n",
       "  </thead>\n",
       "  <tbody>\n",
       "    <tr>\n",
       "      <th>5</th>\n",
       "      <td>16800</td>\n",
       "      <td>Jakey</td>\n",
       "      <td>Yip</td>\n",
       "      <td>Stewie2k</td>\n",
       "      <td>us</td>\n",
       "      <td>1087340.00</td>\n",
       "      <td>Counter-Strike: Global Offensive</td>\n",
       "      <td>First-Person Shooter</td>\n",
       "    </tr>\n",
       "    <tr>\n",
       "      <th>12</th>\n",
       "      <td>11788</td>\n",
       "      <td>Jonathan</td>\n",
       "      <td>Jablonowski</td>\n",
       "      <td>ELiGE</td>\n",
       "      <td>us</td>\n",
       "      <td>930696.42</td>\n",
       "      <td>Counter-Strike: Global Offensive</td>\n",
       "      <td>First-Person Shooter</td>\n",
       "    </tr>\n",
       "    <tr>\n",
       "      <th>13</th>\n",
       "      <td>8635</td>\n",
       "      <td>Nick</td>\n",
       "      <td>Cannella</td>\n",
       "      <td>nitr0</td>\n",
       "      <td>us</td>\n",
       "      <td>920151.73</td>\n",
       "      <td>Counter-Strike: Global Offensive</td>\n",
       "      <td>First-Person Shooter</td>\n",
       "    </tr>\n",
       "    <tr>\n",
       "      <th>22</th>\n",
       "      <td>10630</td>\n",
       "      <td>Tarik</td>\n",
       "      <td>Celik</td>\n",
       "      <td>tarik</td>\n",
       "      <td>us</td>\n",
       "      <td>780039.21</td>\n",
       "      <td>Counter-Strike: Global Offensive</td>\n",
       "      <td>First-Person Shooter</td>\n",
       "    </tr>\n",
       "    <tr>\n",
       "      <th>36</th>\n",
       "      <td>4311</td>\n",
       "      <td>Will</td>\n",
       "      <td>Wierzba</td>\n",
       "      <td>Rush</td>\n",
       "      <td>us</td>\n",
       "      <td>586616.00</td>\n",
       "      <td>Counter-Strike: Global Offensive</td>\n",
       "      <td>First-Person Shooter</td>\n",
       "    </tr>\n",
       "  </tbody>\n",
       "</table>\n",
       "</div>"
      ],
      "text/plain": [
       "    PlayerId NameFirst     NameLast CurrentHandle CountryCode  TotalUSDPrize  \\\n",
       "5      16800     Jakey          Yip      Stewie2k          us     1087340.00   \n",
       "12     11788  Jonathan  Jablonowski         ELiGE          us      930696.42   \n",
       "13      8635      Nick     Cannella         nitr0          us      920151.73   \n",
       "22     10630     Tarik        Celik         tarik          us      780039.21   \n",
       "36      4311      Will      Wierzba          Rush          us      586616.00   \n",
       "\n",
       "                                Game                 Genre  \n",
       "5   Counter-Strike: Global Offensive  First-Person Shooter  \n",
       "12  Counter-Strike: Global Offensive  First-Person Shooter  \n",
       "13  Counter-Strike: Global Offensive  First-Person Shooter  \n",
       "22  Counter-Strike: Global Offensive  First-Person Shooter  \n",
       "36  Counter-Strike: Global Offensive  First-Person Shooter  "
      ]
     },
     "execution_count": 50,
     "metadata": {},
     "output_type": "execute_result"
    }
   ],
   "source": [
    "df3 = df.loc[df[\"CountryCode\"].isin([\"kr\", \"cn\", \"us\"])]\n",
    "df3.head()"
   ]
  },
  {
   "cell_type": "code",
   "execution_count": 54,
   "id": "12067a75",
   "metadata": {},
   "outputs": [],
   "source": [
    "# Tomamos los tres primeros países que entran en las competiciones: korea, china, usa\n",
    "# One way t-test ANOVA \n",
    "Korea_Country = df3[df3.CountryCode == 'kr']['TotalUSDPrize']\n",
    "China_Country = df3[df3.CountryCode == 'cn']['TotalUSDPrize']\n",
    "US_Country = df3[df3.CountryCode == 'us']['TotalUSDPrize']"
   ]
  },
  {
   "cell_type": "code",
   "execution_count": 55,
   "id": "6d6a2f65",
   "metadata": {},
   "outputs": [
    {
     "data": {
      "text/html": [
       "<div>\n",
       "<style scoped>\n",
       "    .dataframe tbody tr th:only-of-type {\n",
       "        vertical-align: middle;\n",
       "    }\n",
       "\n",
       "    .dataframe tbody tr th {\n",
       "        vertical-align: top;\n",
       "    }\n",
       "\n",
       "    .dataframe thead th {\n",
       "        text-align: right;\n",
       "    }\n",
       "</style>\n",
       "<table border=\"1\" class=\"dataframe\">\n",
       "  <thead>\n",
       "    <tr style=\"text-align: right;\">\n",
       "      <th></th>\n",
       "      <th>TotalUSDPrize</th>\n",
       "    </tr>\n",
       "    <tr>\n",
       "      <th>CountryCode</th>\n",
       "      <th></th>\n",
       "    </tr>\n",
       "  </thead>\n",
       "  <tbody>\n",
       "    <tr>\n",
       "      <th>cn</th>\n",
       "      <td>430904.04</td>\n",
       "    </tr>\n",
       "    <tr>\n",
       "      <th>kr</th>\n",
       "      <td>232835.59</td>\n",
       "    </tr>\n",
       "    <tr>\n",
       "      <th>us</th>\n",
       "      <td>378064.75</td>\n",
       "    </tr>\n",
       "  </tbody>\n",
       "</table>\n",
       "</div>"
      ],
      "text/plain": [
       "             TotalUSDPrize\n",
       "CountryCode               \n",
       "cn               430904.04\n",
       "kr               232835.59\n",
       "us               378064.75"
      ]
     },
     "execution_count": 55,
     "metadata": {},
     "output_type": "execute_result"
    }
   ],
   "source": [
    "# Comparamos las medias para cada país\n",
    "Country_means = df3.groupby('CountryCode').mean()[['TotalUSDPrize']]\n",
    "round(Country_means,2) "
   ]
  },
  {
   "cell_type": "code",
   "execution_count": 56,
   "id": "1b573863",
   "metadata": {},
   "outputs": [
    {
     "name": "stdout",
     "output_type": "stream",
     "text": [
      "F_onewayResult(statistic=10.447770299433403, pvalue=3.5461114321491386e-05)\n"
     ]
    }
   ],
   "source": [
    "# The one-way ANOVA tests\n",
    "test3 = f_oneway(Korea_Country,China_Country,US_Country)\n",
    "print(test3)"
   ]
  },
  {
   "cell_type": "code",
   "execution_count": 60,
   "id": "9e08767c",
   "metadata": {},
   "outputs": [
    {
     "name": "stdout",
     "output_type": "stream",
     "text": [
      "reject NULL hypothesis, there are no differences between the three sample means\n"
     ]
    }
   ],
   "source": [
    "alpha = (0.05/2)\n",
    "if test3.pvalue < alpha:\n",
    "    print('reject NULL hypothesis, there are no differences between the three sample means')\n",
    "else:\n",
    "    print('fail to reject NULL hypothesis --> there are differences between the three sample means')"
   ]
  },
  {
   "cell_type": "code",
   "execution_count": 61,
   "id": "bcd3aa5a",
   "metadata": {},
   "outputs": [
    {
     "data": {
      "text/plain": [
       "Text(0.5, 1.0, 'Three countries Korea, China, USA samples')"
      ]
     },
     "execution_count": 61,
     "metadata": {},
     "output_type": "execute_result"
    },
    {
     "data": {
      "image/png": "[encoded data removed]",
      "text/plain": [
       "<Figure size 432x288 with 1 Axes>"
      ]
     },
     "metadata": {},
     "output_type": "display_data"
    }
   ],
   "source": [
    "#Graficamos los tres samples \n",
    "a = Korea_Country\n",
    "b = China_Country\n",
    "c = US_Country\n",
    "sns.kdeplot(a, shade=True)\n",
    "sns.kdeplot(b, shade=True)\n",
    "sns.kdeplot(c, shade=True)\n",
    "plt.title(\"Three countries Korea, China, USA samples\")"
   ]
  }
 ],
 "metadata": {
  "kernelspec": {
   "display_name": "Python 3",
   "language": "python",
   "name": "python3"
  },
  "language_info": {
   "codemirror_mode": {
    "name": "ipython",
    "version": 3
   },
   "file_extension": ".py",
   "mimetype": "text/x-python",
   "name": "python",
   "nbconvert_exporter": "python",
   "pygments_lexer": "ipython3",
   "version": "3.8.8"
  },
  "latex_envs": {
   "LaTeX_envs_menu_present": true,
   "autoclose": false,
   "autocomplete": true,
   "bibliofile": "biblio.bib",
   "cite_by": "apalike",
   "current_citInitial": 1,
   "eqLabelWithNumbers": true,
   "eqNumInitial": 1,
   "hotkeys": {
    "equation": "Ctrl-E",
    "itemize": "Ctrl-I"
   },
   "labels_anchors": false,
   "latex_user_defs": false,
   "report_style_numbering": false,
   "user_envs_cfg": false
  }
 },
 "nbformat": 4,
 "nbformat_minor": 5
}
